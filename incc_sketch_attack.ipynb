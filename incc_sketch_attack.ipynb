{
 "cells": [
  {
   "cell_type": "code",
   "execution_count": 10,
   "id": "73a26a65",
   "metadata": {},
   "outputs": [],
   "source": [
    "import cv2\n",
    "import random\n",
    "import numpy as np"
   ]
  },
  {
   "cell_type": "code",
   "execution_count": 11,
   "id": "ec1334ce",
   "metadata": {},
   "outputs": [],
   "source": [
    "random.seed(0)"
   ]
  },
  {
   "cell_type": "code",
   "execution_count": 13,
   "id": "9054062e",
   "metadata": {},
   "outputs": [
    {
     "data": {
      "text/plain": [
       "-1"
      ]
     },
     "execution_count": 13,
     "metadata": {},
     "output_type": "execute_result"
    }
   ],
   "source": [
    "def incc_attack(image_name):\n",
    "    img_file = image_name + '.tif'\n",
    "    intensities = cv2.imread(img_file, cv2.IMREAD_GRAYSCALE)\n",
    "    height = np.shape(intensities)[0]\n",
    "    width = np.shape(intensities)[1]\n",
    "    imf = np.float32(intensities)\n",
    "\n",
    "    fi_intensities = np.zeros([height,width])\n",
    "    nonzero_ac_nums = []\n",
    "    for i in range(0,int(height/8)):\n",
    "        for j in range(0,int(width/8)):\n",
    "            blk = imf[8*i:8*(i+1), 8*j:8*(j+1)]\n",
    "            shifted_blk = blk - 128 #level_shift for dct\n",
    "            dct = cv2.dct(shifted_blk)\n",
    "            nq_coef = np.round(dct)\n",
    "            nq_coef_ac = np.delete(nq_coef, [0,0])\n",
    "            nq_coef_dc = nq_coef[0,0]\n",
    "\n",
    "            nonzero_ac_num = np.count_nonzero(nq_coef_ac)\n",
    "            nonzero_ac_nums = np.append(nonzero_ac_nums, nonzero_ac_num)\n",
    "\n",
    "    max_nonzero_ac_num = max(nonzero_ac_nums)\n",
    "    k = 0\n",
    "    for i in range(0,int(height/8)):\n",
    "        for j in range(0,int(width/8)):        \n",
    "            fi = np.floor(255*nonzero_ac_nums[k]/max_nonzero_ac_num)\n",
    "            k += 1\n",
    "\n",
    "            fi_blk = fi * np.ones([8, 8])\n",
    "            fi_intensities [8*i:8*(i+1), 8*j:8*(j+1)] = fi_blk\n",
    "\n",
    "    filename = 'incc_attack_'+image_name+'.png'\n",
    "    cv2.imwrite(filename, fi_intensities)\n",
    "    cv2.waitKey(1000)\n",
    "    return fi_intensities\n"
   ]
  },
  {
   "cell_type": "code",
   "execution_count": 4,
   "id": "eec62789",
   "metadata": {},
   "outputs": [
    {
     "data": {
      "text/plain": [
       "53"
      ]
     },
     "execution_count": 4,
     "metadata": {},
     "output_type": "execute_result"
    }
   ],
   "source": []
  },
  {
   "cell_type": "code",
   "execution_count": null,
   "id": "9635ff82",
   "metadata": {},
   "outputs": [],
   "source": []
  }
 ],
 "metadata": {
  "kernelspec": {
   "display_name": "Python 3 (ipykernel)",
   "language": "python",
   "name": "python3"
  },
  "language_info": {
   "codemirror_mode": {
    "name": "ipython",
    "version": 3
   },
   "file_extension": ".py",
   "mimetype": "text/x-python",
   "name": "python",
   "nbconvert_exporter": "python",
   "pygments_lexer": "ipython3",
   "version": "3.9.12"
  }
 },
 "nbformat": 4,
 "nbformat_minor": 5
}
