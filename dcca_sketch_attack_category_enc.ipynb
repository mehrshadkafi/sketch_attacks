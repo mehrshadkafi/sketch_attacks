{
 "cells": [
  {
   "cell_type": "code",
   "execution_count": 22,
   "id": "13f14042",
   "metadata": {},
   "outputs": [],
   "source": [
    "'''dcca attack based on Minemura 2016\n",
    "and scrambling dif DCs within their original size'''\n",
    "\n",
    "import cv2\n",
    "import random\n",
    "import numpy as np"
   ]
  },
  {
   "cell_type": "code",
   "execution_count": 23,
   "id": "4d490c71",
   "metadata": {},
   "outputs": [],
   "source": [
    "random.seed(0)"
   ]
  },
  {
   "cell_type": "code",
   "execution_count": 26,
   "id": "7cb319ee",
   "metadata": {},
   "outputs": [
    {
     "data": {
      "text/plain": [
       "-1"
      ]
     },
     "execution_count": 26,
     "metadata": {},
     "output_type": "execute_result"
    }
   ],
   "source": [
    "# def dcca_attack(image_name):\n",
    "image_name = 'lena'\n",
    "img_file = image_name + '.tif'\n",
    "intensities = cv2.imread(img_file, cv2.IMREAD_GRAYSCALE)\n",
    "height = np.shape(intensities)[0]\n",
    "width = np.shape(intensities)[1]\n",
    "imf = np.float32(intensities)\n",
    "fsketch_intensities = np.zeros([height,width])\n",
    "\n",
    "prev_dc_real = 0\n",
    "for i in range(0,int(height/8)):\n",
    "    for j in range(0,int(width/8)):\n",
    "        blk = imf[8*i:8*(i+1), 8*j:8*(j+1)]\n",
    "        shifted_blk = blk - 128 #level_shift for dct\n",
    "        dct = cv2.dct(shifted_blk)\n",
    "        nq_coef = np.round(dct)\n",
    "        nq_coef_ac = np.delete(nq_coef, [0,0])\n",
    "        nq_coef_dc = nq_coef[0,0]\n",
    "\n",
    "        dc_real = nq_coef_dc\n",
    "        dif_real = dc_real - prev_dc_real\n",
    "        if dif_real == 0:\n",
    "            enc_dif = 0\n",
    "            fsketch = 0\n",
    "        else: \n",
    "            dif_real_size = int(np.floor(np.log2(abs(dif_real)))+1)\n",
    "            neg_range = range(-2**dif_real_size + 1, -2**(dif_real_size-1)+1)\n",
    "            pos_range = range(2**(dif_real_size-1), 2**(dif_real_size))\n",
    "            possible_difs_in_size = np.append(neg_range, pos_range)\n",
    "            enc_dif = random.choice(possible_difs_in_size)\n",
    "            \n",
    "            fsketch_temp = np.floor(np.log2(abs(enc_dif)))\n",
    "            fsketch = 2 ** fsketch_temp * 3\n",
    "            \n",
    "        prev_dc_real = nq_coef_dc           \n",
    "\n",
    "        fsketch_blk = fsketch * np.ones([8, 8])\n",
    "        fsketch_intensities [8*i:8*(i+1), 8*j:8*(j+1)]= fsketch_blk\n",
    "\n",
    "fsketch_modified = fsketch_intensities.copy()\n",
    "fsketch_modified[fsketch_modified>255] = 255\n",
    "\n",
    "filename = 'dcca_attack_category'+image_name+'.png'\n",
    "cv2.imwrite(filename, fsketch_modified)\n",
    "cv2.waitKey(1000)\n",
    "\n",
    "#     return fsketch_modified"
   ]
  },
  {
   "cell_type": "code",
   "execution_count": 27,
   "id": "947aa3a7",
   "metadata": {},
   "outputs": [
    {
     "data": {
      "text/plain": [
       "64.0"
      ]
     },
     "execution_count": 27,
     "metadata": {},
     "output_type": "execute_result"
    }
   ],
   "source": [
    "512/8"
   ]
  },
  {
   "cell_type": "code",
   "execution_count": null,
   "id": "2fefbd12",
   "metadata": {},
   "outputs": [],
   "source": []
  }
 ],
 "metadata": {
  "kernelspec": {
   "display_name": "Python 3 (ipykernel)",
   "language": "python",
   "name": "python3"
  },
  "language_info": {
   "codemirror_mode": {
    "name": "ipython",
    "version": 3
   },
   "file_extension": ".py",
   "mimetype": "text/x-python",
   "name": "python",
   "nbconvert_exporter": "python",
   "pygments_lexer": "ipython3",
   "version": "3.9.12"
  }
 },
 "nbformat": 4,
 "nbformat_minor": 5
}
