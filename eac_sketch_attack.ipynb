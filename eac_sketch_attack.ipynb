{
 "cells": [
  {
   "cell_type": "code",
   "execution_count": 35,
   "id": "73a26a65",
   "metadata": {},
   "outputs": [],
   "source": [
    "import cv2\n",
    "import random\n",
    "import numpy as np"
   ]
  },
  {
   "cell_type": "code",
   "execution_count": 36,
   "id": "ec1334ce",
   "metadata": {},
   "outputs": [],
   "source": [
    "random.seed(0)"
   ]
  },
  {
   "cell_type": "code",
   "execution_count": 37,
   "id": "9054062e",
   "metadata": {},
   "outputs": [],
   "source": [
    "def eac_attack(image_name, msb0_fellows, msb1_fellows):\n",
    "    img_file = image_name + '.tif'\n",
    "    intensities = cv2.imread(img_file, cv2.IMREAD_GRAYSCALE)\n",
    "    height = np.shape(intensities)[0]\n",
    "    width = np.shape(intensities)[1]\n",
    "    imf = np.float32(intensities)\n",
    "\n",
    "    e_prime_ijs = []\n",
    "    for i in range(0,int(height/8)):\n",
    "        for j in range(0,int(width/8)):\n",
    "            blk = imf[8*i:8*(i+1), 8*j:8*(j+1)]\n",
    "            shifted_blk = blk - 128 #level_shift for dct\n",
    "            dct = cv2.dct(shifted_blk)\n",
    "            nq_coef = np.round(dct)\n",
    "            nq_coef_ac = np.delete(nq_coef, [0,0])\n",
    "            nq_coef_dc = nq_coef[0,0]\n",
    "\n",
    "            '''ACs msb encryption'''\n",
    "            enc_ac = nq_coef_ac.copy()\n",
    "            for m in range(np.size(nq_coef_ac)):\n",
    "                if nq_coef_ac[m] != 0:\n",
    "                    if random.randint(0,1): # set msb to 1\n",
    "                        if nq_coef_ac[m] in msb1_fellows:\n",
    "                            enc_ac[m] = nq_coef_ac[m]\n",
    "                        if nq_coef_ac[m] in msb0_fellows:\n",
    "                            ind = np.where(msb0_fellows == nq_coef_ac[m])[0][0]\n",
    "                            enc_ac[m] = msb1_fellows[ind]\n",
    "                    else: # set msb to 0\n",
    "                        if nq_coef_ac[m] in msb0_fellows:\n",
    "                            enc_ac[m] = nq_coef_ac[m]\n",
    "                        if nq_coef_ac[m] in msb1_fellows:\n",
    "                            ind = np.where(msb1_fellows == nq_coef_ac[m])[0][0]\n",
    "                            enc_ac[m] = msb0_fellows[ind]\n",
    "\n",
    "            e_prime_ij = sum(abs(enc_ac))\n",
    "            e_prime_ijs = np.append(e_prime_ijs, e_prime_ij)\n",
    "\n",
    "    e_prime_avg = sum(e_prime_ijs)/(height * width)\n",
    "\n",
    "    fe_intensities = np.zeros([height,width])\n",
    "    k = 0\n",
    "    for i in range(0,int(height/8)):\n",
    "        for j in range(0,int(width/8)):        \n",
    "            fe = np.floor(e_prime_ijs[k]/e_prime_avg)\n",
    "            k += 1\n",
    "\n",
    "            fe_blk = fe * np.ones([8, 8])\n",
    "            fe_intensities [8*i:8*(i+1), 8*j:8*(j+1)] = fe_blk\n",
    "\n",
    "    fe_intensities_modified = fe_intensities.copy()\n",
    "    fe_intensities_modified[fe_intensities_modified>255] = 255\n",
    "    filename = 'eac_attack_'+image_name+'.png'\n",
    "    cv2.imwrite(filename, fe_intensities_modified)\n",
    "    cv2.waitKey(1000)\n",
    "    return fe_intensities"
   ]
  },
  {
   "cell_type": "code",
   "execution_count": null,
   "id": "42068b4c",
   "metadata": {},
   "outputs": [],
   "source": []
  }
 ],
 "metadata": {
  "kernelspec": {
   "display_name": "Python 3 (ipykernel)",
   "language": "python",
   "name": "python3"
  },
  "language_info": {
   "codemirror_mode": {
    "name": "ipython",
    "version": 3
   },
   "file_extension": ".py",
   "mimetype": "text/x-python",
   "name": "python",
   "nbconvert_exporter": "python",
   "pygments_lexer": "ipython3",
   "version": "3.9.12"
  }
 },
 "nbformat": 4,
 "nbformat_minor": 5
}
