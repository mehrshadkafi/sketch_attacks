{
 "cells": [
  {
   "cell_type": "code",
   "execution_count": 1,
   "id": "13f14042",
   "metadata": {},
   "outputs": [],
   "source": [
    "'''dcca attack based on Minemura 2016\n",
    "and scrambling DCs by assigning random number from (-1023, 1023)(inclusive)'''\n",
    "\n",
    "import cv2\n",
    "import random\n",
    "import numpy as np"
   ]
  },
  {
   "cell_type": "code",
   "execution_count": 2,
   "id": "4d490c71",
   "metadata": {},
   "outputs": [],
   "source": [
    "random.seed(0)"
   ]
  },
  {
   "cell_type": "code",
   "execution_count": 3,
   "id": "7cb319ee",
   "metadata": {},
   "outputs": [],
   "source": [
    "def dcca_attack(image_name):\n",
    "\n",
    "    img_file = image_name + '.tif'\n",
    "    intensities = cv2.imread(img_file, cv2.IMREAD_GRAYSCALE)\n",
    "    height = np.shape(intensities)[0]\n",
    "    width = np.shape(intensities)[1]\n",
    "    imf = np.float32(intensities)\n",
    "    fsketch_intensities = np.zeros([height,width])\n",
    "    \n",
    "    for i in range(0,1):\n",
    "        for j in range(0,1):\n",
    "            blk = imf[8*i:8*(i+1), 8*j:8*(j+1)]\n",
    "            shifted_blk = blk - 128 #level_shift for dct\n",
    "            dct = cv2.dct(shifted_blk)\n",
    "            nq_coef = np.round(dct)\n",
    "            nq_coef_ac = np.delete(nq_coef, [0,0])\n",
    "            nq_coef_dc = nq_coef[0,0]\n",
    "        \n",
    "    previous_dc = nq_coef_dc\n",
    "    for i in range(0,int(height/8)):\n",
    "        for j in range(0,int(width/8)):\n",
    "            '''DC encryption'''\n",
    "            enc_dc = random.randint(-1023, 1023)\n",
    "            \n",
    "            dc_difference = enc_dc - previous_dc\n",
    "            previous_dc = enc_dc\n",
    "            \n",
    "            if dc_difference == 0:\n",
    "                fsketch = 0\n",
    "            else:\n",
    "                fsketch_temp = np.floor(np.log2(abs(dc_difference)))\n",
    "                fsketch = 2 ** fsketch_temp * 3\n",
    "            \n",
    "            fsketch_blk = fsketch * np.ones([8, 8])\n",
    "            fsketch_intensities [8*i:8*(i+1), 8*j:8*(j+1)]= fsketch_blk\n",
    "\n",
    "    fsketch_modified = fsketch_intensities.copy()\n",
    "    fsketch_modified[fsketch_modified>255] = 255\n",
    "\n",
    "    filename = 'dcca_attack_'+image_name+'.png'\n",
    "    cv2.imwrite(filename, fsketch_modified)\n",
    "    cv2.waitKey(1000)\n",
    "\n",
    "    return fsketch_modified"
   ]
  },
  {
   "cell_type": "code",
   "execution_count": null,
   "id": "947aa3a7",
   "metadata": {},
   "outputs": [],
   "source": []
  }
 ],
 "metadata": {
  "kernelspec": {
   "display_name": "Python 3 (ipykernel)",
   "language": "python",
   "name": "python3"
  },
  "language_info": {
   "codemirror_mode": {
    "name": "ipython",
    "version": 3
   },
   "file_extension": ".py",
   "mimetype": "text/x-python",
   "name": "python",
   "nbconvert_exporter": "python",
   "pygments_lexer": "ipython3",
   "version": "3.9.12"
  }
 },
 "nbformat": 4,
 "nbformat_minor": 5
}
