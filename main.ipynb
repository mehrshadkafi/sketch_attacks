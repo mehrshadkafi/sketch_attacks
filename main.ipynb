{
 "cells": [
  {
   "cell_type": "code",
   "execution_count": 1,
   "id": "4432f914",
   "metadata": {},
   "outputs": [],
   "source": [
    "import numpy as np\n",
    "import opt_fellows_assigner as opt_fs\n",
    "import swap_fellows_assigner \n",
    "import encrypt_function as enc\n",
    "import encrypt_function_ddc_in_size\n",
    "import psnr_function\n",
    "import dcca_sketch_attack\n",
    "import incc_sketch_attack\n",
    "import eac_sketch_attack"
   ]
  },
  {
   "cell_type": "code",
   "execution_count": 2,
   "id": "4dad2293",
   "metadata": {},
   "outputs": [],
   "source": [
    "image = 'lena'"
   ]
  },
  {
   "cell_type": "code",
   "execution_count": 8,
   "id": "479bcb87",
   "metadata": {},
   "outputs": [],
   "source": [
    "# fellows by optimizations\n",
    "lena_lambdath = 149847\n",
    "opt_pairs = opt_fs.opt_fellows_assigner(lena_lambdath)\n",
    "opt_msb0_fellows = opt_pairs[0]\n",
    "opt_msb1_fellows = opt_pairs[1]"
   ]
  },
  {
   "cell_type": "code",
   "execution_count": 3,
   "id": "c3601355",
   "metadata": {},
   "outputs": [],
   "source": [
    "# fellows by swapping\n",
    "x = +2\n",
    "sH = 10\n",
    "sw_pairs = swap_fellows_assigner.swap_fellows_assigner('lena', x, sH)\n",
    "sw_msb0_fellows = sw_pairs[0]\n",
    "sw_msb1_fellows = sw_pairs[1]"
   ]
  },
  {
   "cell_type": "code",
   "execution_count": 16,
   "id": "ba07e8c4",
   "metadata": {},
   "outputs": [],
   "source": [
    "# encryption within BCopt with complete DC encryption\n",
    "a = enc.encrypt_function(image, opt_msb0_fellows, opt_msb1_fellows)"
   ]
  },
  {
   "cell_type": "code",
   "execution_count": 18,
   "id": "72d65b54",
   "metadata": {},
   "outputs": [],
   "source": [
    "# encryption within BCopt with dDC encryption within size\n",
    "b = encrypt_function_ddc_in_size.encrypt_function(image, opt_msb0_fellows, opt_msb1_fellows)"
   ]
  },
  {
   "cell_type": "code",
   "execution_count": 12,
   "id": "6e12714e",
   "metadata": {},
   "outputs": [],
   "source": [
    "# encryption within SwapBC\n",
    "c = enc.encrypt_function(image, sw_msb0_fellows, sw_msb1_fellows)"
   ]
  },
  {
   "cell_type": "code",
   "execution_count": 20,
   "id": "245d1101",
   "metadata": {},
   "outputs": [],
   "source": [
    "# encryption within SwapBC with dDC encryption within size\n",
    "d = encrypt_function_ddc_in_size.encrypt_function(image, sw_msb0_fellows, sw_msb1_fellows)"
   ]
  },
  {
   "cell_type": "code",
   "execution_count": 22,
   "id": "d8d6b5ca",
   "metadata": {},
   "outputs": [
    {
     "name": "stdout",
     "output_type": "stream",
     "text": [
      "6.991180459819666 5.523369574632653 6.775063304184065 5.338323155718495\n"
     ]
    }
   ],
   "source": [
    "# numerical results\n",
    "opt_psnr = psnr_function.get_psnr(image+'.tif', 'enc_lena_lamth.png')\n",
    "opt_psnr_ddc_in_size = psnr_function.get_psnr(image+'.tif', 'enc_ddc_in_size_lena_lamth.png')\n",
    "sw_psnr = psnr_function.get_psnr(image+'.tif', 'enc_lena_x2_sH10.png')\n",
    "sw_psnr_ddc_in_size = psnr_function.get_psnr(image+'.tif', 'enc_ddc_in_size_lena_x2_sH10.png')\n",
    "\n",
    "print(opt_psnr, opt_psnr_ddc_in_size, sw_psnr, sw_psnr_ddc_in_size)"
   ]
  },
  {
   "cell_type": "code",
   "execution_count": 4,
   "id": "48358f75",
   "metadata": {},
   "outputs": [
    {
     "data": {
      "text/plain": [
       "array([[255., 255., 255., ..., 255., 255., 255.],\n",
       "       [255., 255., 255., ..., 255., 255., 255.],\n",
       "       [255., 255., 255., ..., 255., 255., 255.],\n",
       "       ...,\n",
       "       [255., 255., 255., ..., 255., 255., 255.],\n",
       "       [255., 255., 255., ..., 255., 255., 255.],\n",
       "       [255., 255., 255., ..., 255., 255., 255.]])"
      ]
     },
     "execution_count": 4,
     "metadata": {},
     "output_type": "execute_result"
    }
   ],
   "source": [
    "#dcca sketch attack\n",
    "dcca_sketch_attack.dcca_attack(image)"
   ]
  },
  {
   "cell_type": "code",
   "execution_count": 5,
   "id": "f6eba554",
   "metadata": {},
   "outputs": [
    {
     "data": {
      "text/plain": [
       "array([[214., 214., 214., ..., 238., 238., 238.],\n",
       "       [214., 214., 214., ..., 238., 238., 238.],\n",
       "       [214., 214., 214., ..., 238., 238., 238.],\n",
       "       ...,\n",
       "       [230., 230., 230., ..., 242., 242., 242.],\n",
       "       [230., 230., 230., ..., 242., 242., 242.],\n",
       "       [230., 230., 230., ..., 242., 242., 242.]])"
      ]
     },
     "execution_count": 5,
     "metadata": {},
     "output_type": "execute_result"
    }
   ],
   "source": [
    "#incc sketch attack\n",
    "incc_sketch_attack.incc_attack(image)"
   ]
  },
  {
   "cell_type": "code",
   "execution_count": 4,
   "id": "2214de92",
   "metadata": {},
   "outputs": [
    {
     "data": {
      "text/plain": [
       "array([[ 79.,  79.,  79., ..., 112., 112., 112.],\n",
       "       [ 79.,  79.,  79., ..., 112., 112., 112.],\n",
       "       [ 79.,  79.,  79., ..., 112., 112., 112.],\n",
       "       ...,\n",
       "       [ 27.,  27.,  27., ...,  85.,  85.,  85.],\n",
       "       [ 27.,  27.,  27., ...,  85.,  85.,  85.],\n",
       "       [ 27.,  27.,  27., ...,  85.,  85.,  85.]])"
      ]
     },
     "execution_count": 4,
     "metadata": {},
     "output_type": "execute_result"
    }
   ],
   "source": [
    "eac_sketch_attack.eac_attack(image, sw_msb0_fellows, sw_msb1_fellows)"
   ]
  },
  {
   "cell_type": "code",
   "execution_count": null,
   "id": "5d77af23",
   "metadata": {},
   "outputs": [],
   "source": []
  }
 ],
 "metadata": {
  "kernelspec": {
   "display_name": "Python 3 (ipykernel)",
   "language": "python",
   "name": "python3"
  },
  "language_info": {
   "codemirror_mode": {
    "name": "ipython",
    "version": 3
   },
   "file_extension": ".py",
   "mimetype": "text/x-python",
   "name": "python",
   "nbconvert_exporter": "python",
   "pygments_lexer": "ipython3",
   "version": "3.9.12"
  }
 },
 "nbformat": 4,
 "nbformat_minor": 5
}
